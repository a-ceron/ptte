{
 "cells": [
  {
   "attachments": {},
   "cell_type": "markdown",
   "metadata": {},
   "source": [
    "# Reto 1\n",
    "Construye un modelo de identificación de entidades nombradas usando las bibliotecas que consideres más apropiadas.\n",
    "\n",
    "## Fuente de datos.\n",
    "Usamos la publicación 195/2023 de la página de [comunicados](https://www.scjn.gob.mx/multimedia/comunicados). \n",
    "\n",
    "\n",
    "## Resumen de la implementación.\n",
    "Usando la biblioteca spacy y el pre-entrenamiento en españo es_core_news_sm, se ha generado un diccionario de entidades, cada uno contienen una lista de elementos que el modelo identifico en esa entidad. Para ello se hizo un pequeño tratamiento en el texto, iniciando con una alteración manual al crear el archivo y una limpieza en el texto."
   ]
  },
  {
   "cell_type": "code",
   "execution_count": 10,
   "metadata": {},
   "outputs": [],
   "source": [
    "import spacy\n",
    "\n",
    "from spacy import displacy\n",
    "from spacy.pipeline.ner import DEFAULT_NER_MODEL\n"
   ]
  },
  {
   "cell_type": "code",
   "execution_count": 11,
   "metadata": {},
   "outputs": [
    {
     "name": "stdout",
     "output_type": "stream",
     "text": [
      "['No. 195/2023\\n', '\\n', 'Ciudad de México, a 05 de junio de 2023\\n', '\\n', 'INVALIDA LA CORTE DISPOSICIÓN DE LA LEY DE SALUD DEL ESTADO DE HIDALGO POR RESULTAR VIOLATORIA AL PRINCIPIO DE IGUALDAD\\n', '\\n', 'Los pueblos y comunidades indígenas deben ser consultados siempre y cuando la norma general sea susceptible de afectarles de manera especial y diferenciada frente al resto de la población\\n', '\\n', 'El derecho a la salud de personas, pueblos y comunidades indígenas implica recibir atención médica en su propia lengua\\n', '\\n', 'El Pleno de la Suprema Corte de Justicia de la Nación (SCJN), como resultado del análisis de las impugnaciones formuladas por la Comisión Nacional de los Derechos Humanos, invalidó porciones normativas del segundo párrafo del artículo 16 Quater de la Ley de Salud del Estado de Hidalgo, reformado mediante Decreto No. 179 publicado en el Periódico Oficial de esa entidad federativa el 28 de marzo de 2022.\\n', '\\n', 'La SCJN analizó si la inclusión expresada en la norma de que los hospitales generales y regionales del Estado que traten población indígena deberán garantizar la asistencia de cuando menos un traductor de las lenguas Náhuatl, Hñahñu, Otomí, Tepehua, Tenek y Pame, resulta en la exclusión de la atención integral de la salud a personas indígenas que hablan una lengua diversa a las contempladas por la norma.\\n', '\\n', 'El Pleno señaló que el derecho a la salud de las comunidades indígenas implica garantizar que cuenten con traductores en sus lenguas, que les asistan en las áreas de atención médica y trabajo social, y que su atención en los hospitales generales y regionales de la entidad sea óptima.\\n', '\\n', 'En ese sentido, la SCJN indicó que, el legislador al establecer medidas de inclusión lingüística no puede contemplar solamente algunas de las lenguas o las lenguas mayoritarias dentro de su entidad, pues ello implicaría preferir sólo a algunos ciudadanos en razón de su lengua y resultar subinclusiva.\\n', '\\n', 'Por tanto, el Pleno de la Corte concluyó que la norma impugnada sí resultaba inconstitucional, pues violaba los derechos a la salud y de igualdad de aquellas personas que no hablan alguna de esas lenguas o el español.\\n', '\\n', 'Finalmente, determinó que la referida invalidez surtirá efectos a partir de su notificación al Congreso del Estado de Hidalgo.\\n', '\\n', 'Acción de inconstitucionalidad 63/2022, promovida por la Comisión Nacional de los Derechos Humanos, demandando la invalidez del Artículo 16 Quater, segundo párrafo, de la Ley de Salud para el Estado de Hidalgo, reformado mediante Decreto No. 179 publicado en el Periódico Oficial de dicha entidad federativa el 28 de marzo de 2022. Ponente: Javier Laynez Potisek. Secretaria: Paula Ximena Méndez Azuela.\\n', '\\n', '\\n', '\\n', 'Documento con fines de divulgación. La sentencia es la única versión oficial.']\n"
     ]
    }
   ],
   "source": [
    "# Leyendo un comunicado\n",
    "ruta = './datos/comunicado_195_2023.txt'\n",
    "\n",
    "texto = ''\n",
    "with open(ruta, 'r') as f:\n",
    "    texto = f.readlines()\n",
    "\n",
    "print(texto)"
   ]
  },
  {
   "cell_type": "code",
   "execution_count": 12,
   "metadata": {},
   "outputs": [
    {
     "name": "stdout",
     "output_type": "stream",
     "text": [
      "['No. 195/2023', 'Ciudad de México, a 05 de junio de 2023', 'INVALIDA LA CORTE DISPOSICIÓN DE LA LEY DE SALUD DEL ESTADO DE HIDALGO POR RESULTAR VIOLATORIA AL PRINCIPIO DE IGUALDAD', 'Los pueblos y comunidades indígenas deben ser consultados siempre y cuando la norma general sea susceptible de afectarles de manera especial y diferenciada frente al resto de la población', 'El derecho a la salud de personas, pueblos y comunidades indígenas implica recibir atención médica en su propia lengua', 'El Pleno de la Suprema Corte de Justicia de la Nación (SCJN), como resultado del análisis de las impugnaciones formuladas por la Comisión Nacional de los Derechos Humanos, invalidó porciones normativas del segundo párrafo del artículo 16 Quater de la Ley de Salud del Estado de Hidalgo, reformado mediante Decreto No. 179 publicado en el Periódico Oficial de esa entidad federativa el 28 de marzo de 2022.', 'La SCJN analizó si la inclusión expresada en la norma de que los hospitales generales y regionales del Estado que traten población indígena deberán garantizar la asistencia de cuando menos un traductor de las lenguas Náhuatl, Hñahñu, Otomí, Tepehua, Tenek y Pame, resulta en la exclusión de la atención integral de la salud a personas indígenas que hablan una lengua diversa a las contempladas por la norma.', 'El Pleno señaló que el derecho a la salud de las comunidades indígenas implica garantizar que cuenten con traductores en sus lenguas, que les asistan en las áreas de atención médica y trabajo social, y que su atención en los hospitales generales y regionales de la entidad sea óptima.', 'En ese sentido, la SCJN indicó que, el legislador al establecer medidas de inclusión lingüística no puede contemplar solamente algunas de las lenguas o las lenguas mayoritarias dentro de su entidad, pues ello implicaría preferir sólo a algunos ciudadanos en razón de su lengua y resultar subinclusiva.', 'Por tanto, el Pleno de la Corte concluyó que la norma impugnada sí resultaba inconstitucional, pues violaba los derechos a la salud y de igualdad de aquellas personas que no hablan alguna de esas lenguas o el español.', 'Finalmente, determinó que la referida invalidez surtirá efectos a partir de su notificación al Congreso del Estado de Hidalgo.', 'Acción de inconstitucionalidad 63/2022, promovida por la Comisión Nacional de los Derechos Humanos, demandando la invalidez del Artículo 16 Quater, segundo párrafo, de la Ley de Salud para el Estado de Hidalgo, reformado mediante Decreto No. 179 publicado en el Periódico Oficial de dicha entidad federativa el 28 de marzo de 2022. Ponente: Javier Laynez Potisek. Secretaria: Paula Ximena Méndez Azuela.', 'Documento con fines de divulgación. La sentencia es la única versión oficial.']\n"
     ]
    }
   ],
   "source": [
    "# Eliminando el salto de linea\n",
    "ntexto = []\n",
    "for sub in texto:\n",
    "    aux = sub.replace(\"\\n\", \"\")\n",
    "    if aux:\n",
    "        ntexto.append(aux)\n",
    "\n",
    "print(ntexto)"
   ]
  },
  {
   "cell_type": "code",
   "execution_count": 13,
   "metadata": {},
   "outputs": [],
   "source": [
    "# !spacy download es_core_news_sm\n",
    "\n",
    "# config = {\n",
    "#    \"moves\": None,\n",
    "#    \"update_with_oracle_cut_size\": 100,\n",
    "#    \"model\": DEFAULT_NER_MODEL,\n",
    "#    \"incorrect_spans_key\": \"incorrect_spans\",\n",
    "# }"
   ]
  },
  {
   "cell_type": "code",
   "execution_count": 14,
   "metadata": {},
   "outputs": [],
   "source": [
    "# Cargar el modelo preentrenado en español\n",
    "nlp = spacy.load('es_core_news_sm')\n",
    "\n",
    "# nlp.add_pipe(\"ner\", config=config)"
   ]
  },
  {
   "cell_type": "code",
   "execution_count": 15,
   "metadata": {},
   "outputs": [
    {
     "name": "stdout",
     "output_type": "stream",
     "text": [
      "{'LOC': ['Ciudad de México', 'Pleno de la Suprema Corte de Justicia de la Nación', 'SCJN', 'Quater de la Ley de Salud', 'Estado de Hidalgo', 'Periódico Oficial', 'SCJN', 'Tepehua', 'Tenek', 'Pame', 'SCJN', 'Estado de Hidalgo', 'Artículo 16 Quater', 'Estado de Hidalgo', 'Periódico Oficial', 'Ponente'], 'ORG': ['CORTE', 'Comisión Nacional de los Derechos Humanos', 'Congreso', 'Comisión Nacional de los Derechos Humanos', 'Ley de Salud'], 'MISC': ['DISPOSICIÓN', 'LEY', 'RESULTAR', 'PRINCIPIO', 'IGUALDAD', 'Decreto No', 'Estado', 'Pleno de la Corte', 'Decreto No', 'Secretaria: Paula Ximena Méndez Azuela', 'La sentencia es la única versión oficial'], 'PER': ['Náhuatl', 'Hñahñu', 'Otomí', 'Pleno', 'Javier Laynez Potisek']}\n"
     ]
    }
   ],
   "source": [
    "entidades = {}\n",
    "for txt in ntexto:\n",
    "    # Procesar el texto con el modelo de spaCy\n",
    "    procsTxt = nlp(txt)\n",
    "\n",
    "    # Obtener las entidades nombradas y sus etiquetas\n",
    "    for entidad in procsTxt.ents:\n",
    "        cont = entidades.get(entidad.label_, '')\n",
    "        if cont:\n",
    "            entidades[entidad.label_].append(entidad.text)\n",
    "        else:\n",
    "            entidades[entidad.label_] = [entidad.text]\n",
    "print(entidades)"
   ]
  },
  {
   "cell_type": "code",
   "execution_count": 18,
   "metadata": {},
   "outputs": [
    {
     "name": "stderr",
     "output_type": "stream",
     "text": [
      "/Users/aceron/opt/miniconda3/envs/courses/lib/python3.10/site-packages/spacy/displacy/__init__.py:215: UserWarning: [W006] No entities to visualize found in Doc object. If this is surprising to you, make sure the Doc was processed using a model that supports named entity recognition, and check the `doc.ents` property manually if necessary.\n",
      "  warnings.warn(Warnings.W006)\n"
     ]
    },
    {
     "data": {
      "text/html": [
       "<span class=\"tex2jax_ignore\"><div class=\"entities\" style=\"line-height: 2.5; direction: ltr\">No. 195/2023</div></span>"
      ],
      "text/plain": [
       "<IPython.core.display.HTML object>"
      ]
     },
     "metadata": {},
     "output_type": "display_data"
    },
    {
     "data": {
      "text/html": [
       "<span class=\"tex2jax_ignore\"><div class=\"entities\" style=\"line-height: 2.5; direction: ltr\">\n",
       "<mark class=\"entity\" style=\"background: #ff9561; padding: 0.45em 0.6em; margin: 0 0.25em; line-height: 1; border-radius: 0.35em;\">\n",
       "    Ciudad de México\n",
       "    <span style=\"font-size: 0.8em; font-weight: bold; line-height: 1; border-radius: 0.35em; vertical-align: middle; margin-left: 0.5rem\">LOC</span>\n",
       "</mark>\n",
       ", a 05 de junio de 2023</div></span>"
      ],
      "text/plain": [
       "<IPython.core.display.HTML object>"
      ]
     },
     "metadata": {},
     "output_type": "display_data"
    },
    {
     "data": {
      "text/html": [
       "<span class=\"tex2jax_ignore\"><div class=\"entities\" style=\"line-height: 2.5; direction: ltr\">INVALIDA LA \n",
       "<mark class=\"entity\" style=\"background: #7aecec; padding: 0.45em 0.6em; margin: 0 0.25em; line-height: 1; border-radius: 0.35em;\">\n",
       "    CORTE\n",
       "    <span style=\"font-size: 0.8em; font-weight: bold; line-height: 1; border-radius: 0.35em; vertical-align: middle; margin-left: 0.5rem\">ORG</span>\n",
       "</mark>\n",
       " \n",
       "<mark class=\"entity\" style=\"background: #ddd; padding: 0.45em 0.6em; margin: 0 0.25em; line-height: 1; border-radius: 0.35em;\">\n",
       "    DISPOSICIÓN\n",
       "    <span style=\"font-size: 0.8em; font-weight: bold; line-height: 1; border-radius: 0.35em; vertical-align: middle; margin-left: 0.5rem\">MISC</span>\n",
       "</mark>\n",
       " DE LA \n",
       "<mark class=\"entity\" style=\"background: #ddd; padding: 0.45em 0.6em; margin: 0 0.25em; line-height: 1; border-radius: 0.35em;\">\n",
       "    LEY\n",
       "    <span style=\"font-size: 0.8em; font-weight: bold; line-height: 1; border-radius: 0.35em; vertical-align: middle; margin-left: 0.5rem\">MISC</span>\n",
       "</mark>\n",
       " DE SALUD DEL ESTADO DE HIDALGO POR \n",
       "<mark class=\"entity\" style=\"background: #ddd; padding: 0.45em 0.6em; margin: 0 0.25em; line-height: 1; border-radius: 0.35em;\">\n",
       "    RESULTAR\n",
       "    <span style=\"font-size: 0.8em; font-weight: bold; line-height: 1; border-radius: 0.35em; vertical-align: middle; margin-left: 0.5rem\">MISC</span>\n",
       "</mark>\n",
       " VIOLATORIA AL \n",
       "<mark class=\"entity\" style=\"background: #ddd; padding: 0.45em 0.6em; margin: 0 0.25em; line-height: 1; border-radius: 0.35em;\">\n",
       "    PRINCIPIO\n",
       "    <span style=\"font-size: 0.8em; font-weight: bold; line-height: 1; border-radius: 0.35em; vertical-align: middle; margin-left: 0.5rem\">MISC</span>\n",
       "</mark>\n",
       " DE \n",
       "<mark class=\"entity\" style=\"background: #ddd; padding: 0.45em 0.6em; margin: 0 0.25em; line-height: 1; border-radius: 0.35em;\">\n",
       "    IGUALDAD\n",
       "    <span style=\"font-size: 0.8em; font-weight: bold; line-height: 1; border-radius: 0.35em; vertical-align: middle; margin-left: 0.5rem\">MISC</span>\n",
       "</mark>\n",
       "</div></span>"
      ],
      "text/plain": [
       "<IPython.core.display.HTML object>"
      ]
     },
     "metadata": {},
     "output_type": "display_data"
    },
    {
     "data": {
      "text/html": [
       "<span class=\"tex2jax_ignore\"><div class=\"entities\" style=\"line-height: 2.5; direction: ltr\">Los pueblos y comunidades indígenas deben ser consultados siempre y cuando la norma general sea susceptible de afectarles de manera especial y diferenciada frente al resto de la población</div></span>"
      ],
      "text/plain": [
       "<IPython.core.display.HTML object>"
      ]
     },
     "metadata": {},
     "output_type": "display_data"
    },
    {
     "data": {
      "text/html": [
       "<span class=\"tex2jax_ignore\"><div class=\"entities\" style=\"line-height: 2.5; direction: ltr\">El derecho a la salud de personas, pueblos y comunidades indígenas implica recibir atención médica en su propia lengua</div></span>"
      ],
      "text/plain": [
       "<IPython.core.display.HTML object>"
      ]
     },
     "metadata": {},
     "output_type": "display_data"
    },
    {
     "data": {
      "text/html": [
       "<span class=\"tex2jax_ignore\"><div class=\"entities\" style=\"line-height: 2.5; direction: ltr\">El \n",
       "<mark class=\"entity\" style=\"background: #ff9561; padding: 0.45em 0.6em; margin: 0 0.25em; line-height: 1; border-radius: 0.35em;\">\n",
       "    Pleno de la Suprema Corte de Justicia de la Nación\n",
       "    <span style=\"font-size: 0.8em; font-weight: bold; line-height: 1; border-radius: 0.35em; vertical-align: middle; margin-left: 0.5rem\">LOC</span>\n",
       "</mark>\n",
       " (\n",
       "<mark class=\"entity\" style=\"background: #ff9561; padding: 0.45em 0.6em; margin: 0 0.25em; line-height: 1; border-radius: 0.35em;\">\n",
       "    SCJN\n",
       "    <span style=\"font-size: 0.8em; font-weight: bold; line-height: 1; border-radius: 0.35em; vertical-align: middle; margin-left: 0.5rem\">LOC</span>\n",
       "</mark>\n",
       "), como resultado del análisis de las impugnaciones formuladas por la \n",
       "<mark class=\"entity\" style=\"background: #7aecec; padding: 0.45em 0.6em; margin: 0 0.25em; line-height: 1; border-radius: 0.35em;\">\n",
       "    Comisión Nacional de los Derechos Humanos\n",
       "    <span style=\"font-size: 0.8em; font-weight: bold; line-height: 1; border-radius: 0.35em; vertical-align: middle; margin-left: 0.5rem\">ORG</span>\n",
       "</mark>\n",
       ", invalidó porciones normativas del segundo párrafo del artículo 16 \n",
       "<mark class=\"entity\" style=\"background: #ff9561; padding: 0.45em 0.6em; margin: 0 0.25em; line-height: 1; border-radius: 0.35em;\">\n",
       "    Quater de la Ley de Salud\n",
       "    <span style=\"font-size: 0.8em; font-weight: bold; line-height: 1; border-radius: 0.35em; vertical-align: middle; margin-left: 0.5rem\">LOC</span>\n",
       "</mark>\n",
       " del \n",
       "<mark class=\"entity\" style=\"background: #ff9561; padding: 0.45em 0.6em; margin: 0 0.25em; line-height: 1; border-radius: 0.35em;\">\n",
       "    Estado de Hidalgo\n",
       "    <span style=\"font-size: 0.8em; font-weight: bold; line-height: 1; border-radius: 0.35em; vertical-align: middle; margin-left: 0.5rem\">LOC</span>\n",
       "</mark>\n",
       ", reformado mediante \n",
       "<mark class=\"entity\" style=\"background: #ddd; padding: 0.45em 0.6em; margin: 0 0.25em; line-height: 1; border-radius: 0.35em;\">\n",
       "    Decreto No\n",
       "    <span style=\"font-size: 0.8em; font-weight: bold; line-height: 1; border-radius: 0.35em; vertical-align: middle; margin-left: 0.5rem\">MISC</span>\n",
       "</mark>\n",
       ". 179 publicado en el \n",
       "<mark class=\"entity\" style=\"background: #ff9561; padding: 0.45em 0.6em; margin: 0 0.25em; line-height: 1; border-radius: 0.35em;\">\n",
       "    Periódico Oficial\n",
       "    <span style=\"font-size: 0.8em; font-weight: bold; line-height: 1; border-radius: 0.35em; vertical-align: middle; margin-left: 0.5rem\">LOC</span>\n",
       "</mark>\n",
       " de esa entidad federativa el 28 de marzo de 2022.</div></span>"
      ],
      "text/plain": [
       "<IPython.core.display.HTML object>"
      ]
     },
     "metadata": {},
     "output_type": "display_data"
    },
    {
     "data": {
      "text/html": [
       "<span class=\"tex2jax_ignore\"><div class=\"entities\" style=\"line-height: 2.5; direction: ltr\">La \n",
       "<mark class=\"entity\" style=\"background: #ff9561; padding: 0.45em 0.6em; margin: 0 0.25em; line-height: 1; border-radius: 0.35em;\">\n",
       "    SCJN\n",
       "    <span style=\"font-size: 0.8em; font-weight: bold; line-height: 1; border-radius: 0.35em; vertical-align: middle; margin-left: 0.5rem\">LOC</span>\n",
       "</mark>\n",
       " analizó si la inclusión expresada en la norma de que los hospitales generales y regionales del \n",
       "<mark class=\"entity\" style=\"background: #ddd; padding: 0.45em 0.6em; margin: 0 0.25em; line-height: 1; border-radius: 0.35em;\">\n",
       "    Estado\n",
       "    <span style=\"font-size: 0.8em; font-weight: bold; line-height: 1; border-radius: 0.35em; vertical-align: middle; margin-left: 0.5rem\">MISC</span>\n",
       "</mark>\n",
       " que traten población indígena deberán garantizar la asistencia de cuando menos un traductor de las lenguas \n",
       "<mark class=\"entity\" style=\"background: #ddd; padding: 0.45em 0.6em; margin: 0 0.25em; line-height: 1; border-radius: 0.35em;\">\n",
       "    Náhuatl\n",
       "    <span style=\"font-size: 0.8em; font-weight: bold; line-height: 1; border-radius: 0.35em; vertical-align: middle; margin-left: 0.5rem\">PER</span>\n",
       "</mark>\n",
       ", \n",
       "<mark class=\"entity\" style=\"background: #ddd; padding: 0.45em 0.6em; margin: 0 0.25em; line-height: 1; border-radius: 0.35em;\">\n",
       "    Hñahñu\n",
       "    <span style=\"font-size: 0.8em; font-weight: bold; line-height: 1; border-radius: 0.35em; vertical-align: middle; margin-left: 0.5rem\">PER</span>\n",
       "</mark>\n",
       ", \n",
       "<mark class=\"entity\" style=\"background: #ddd; padding: 0.45em 0.6em; margin: 0 0.25em; line-height: 1; border-radius: 0.35em;\">\n",
       "    Otomí\n",
       "    <span style=\"font-size: 0.8em; font-weight: bold; line-height: 1; border-radius: 0.35em; vertical-align: middle; margin-left: 0.5rem\">PER</span>\n",
       "</mark>\n",
       ", \n",
       "<mark class=\"entity\" style=\"background: #ff9561; padding: 0.45em 0.6em; margin: 0 0.25em; line-height: 1; border-radius: 0.35em;\">\n",
       "    Tepehua\n",
       "    <span style=\"font-size: 0.8em; font-weight: bold; line-height: 1; border-radius: 0.35em; vertical-align: middle; margin-left: 0.5rem\">LOC</span>\n",
       "</mark>\n",
       ", \n",
       "<mark class=\"entity\" style=\"background: #ff9561; padding: 0.45em 0.6em; margin: 0 0.25em; line-height: 1; border-radius: 0.35em;\">\n",
       "    Tenek\n",
       "    <span style=\"font-size: 0.8em; font-weight: bold; line-height: 1; border-radius: 0.35em; vertical-align: middle; margin-left: 0.5rem\">LOC</span>\n",
       "</mark>\n",
       " y \n",
       "<mark class=\"entity\" style=\"background: #ff9561; padding: 0.45em 0.6em; margin: 0 0.25em; line-height: 1; border-radius: 0.35em;\">\n",
       "    Pame\n",
       "    <span style=\"font-size: 0.8em; font-weight: bold; line-height: 1; border-radius: 0.35em; vertical-align: middle; margin-left: 0.5rem\">LOC</span>\n",
       "</mark>\n",
       ", resulta en la exclusión de la atención integral de la salud a personas indígenas que hablan una lengua diversa a las contempladas por la norma.</div></span>"
      ],
      "text/plain": [
       "<IPython.core.display.HTML object>"
      ]
     },
     "metadata": {},
     "output_type": "display_data"
    },
    {
     "data": {
      "text/html": [
       "<span class=\"tex2jax_ignore\"><div class=\"entities\" style=\"line-height: 2.5; direction: ltr\">El \n",
       "<mark class=\"entity\" style=\"background: #ddd; padding: 0.45em 0.6em; margin: 0 0.25em; line-height: 1; border-radius: 0.35em;\">\n",
       "    Pleno\n",
       "    <span style=\"font-size: 0.8em; font-weight: bold; line-height: 1; border-radius: 0.35em; vertical-align: middle; margin-left: 0.5rem\">PER</span>\n",
       "</mark>\n",
       " señaló que el derecho a la salud de las comunidades indígenas implica garantizar que cuenten con traductores en sus lenguas, que les asistan en las áreas de atención médica y trabajo social, y que su atención en los hospitales generales y regionales de la entidad sea óptima.</div></span>"
      ],
      "text/plain": [
       "<IPython.core.display.HTML object>"
      ]
     },
     "metadata": {},
     "output_type": "display_data"
    },
    {
     "data": {
      "text/html": [
       "<span class=\"tex2jax_ignore\"><div class=\"entities\" style=\"line-height: 2.5; direction: ltr\">En ese sentido, la \n",
       "<mark class=\"entity\" style=\"background: #ff9561; padding: 0.45em 0.6em; margin: 0 0.25em; line-height: 1; border-radius: 0.35em;\">\n",
       "    SCJN\n",
       "    <span style=\"font-size: 0.8em; font-weight: bold; line-height: 1; border-radius: 0.35em; vertical-align: middle; margin-left: 0.5rem\">LOC</span>\n",
       "</mark>\n",
       " indicó que, el legislador al establecer medidas de inclusión lingüística no puede contemplar solamente algunas de las lenguas o las lenguas mayoritarias dentro de su entidad, pues ello implicaría preferir sólo a algunos ciudadanos en razón de su lengua y resultar subinclusiva.</div></span>"
      ],
      "text/plain": [
       "<IPython.core.display.HTML object>"
      ]
     },
     "metadata": {},
     "output_type": "display_data"
    },
    {
     "data": {
      "text/html": [
       "<span class=\"tex2jax_ignore\"><div class=\"entities\" style=\"line-height: 2.5; direction: ltr\">Por tanto, el \n",
       "<mark class=\"entity\" style=\"background: #ddd; padding: 0.45em 0.6em; margin: 0 0.25em; line-height: 1; border-radius: 0.35em;\">\n",
       "    Pleno de la Corte\n",
       "    <span style=\"font-size: 0.8em; font-weight: bold; line-height: 1; border-radius: 0.35em; vertical-align: middle; margin-left: 0.5rem\">MISC</span>\n",
       "</mark>\n",
       " concluyó que la norma impugnada sí resultaba inconstitucional, pues violaba los derechos a la salud y de igualdad de aquellas personas que no hablan alguna de esas lenguas o el español.</div></span>"
      ],
      "text/plain": [
       "<IPython.core.display.HTML object>"
      ]
     },
     "metadata": {},
     "output_type": "display_data"
    },
    {
     "data": {
      "text/html": [
       "<span class=\"tex2jax_ignore\"><div class=\"entities\" style=\"line-height: 2.5; direction: ltr\">Finalmente, determinó que la referida invalidez surtirá efectos a partir de su notificación al \n",
       "<mark class=\"entity\" style=\"background: #7aecec; padding: 0.45em 0.6em; margin: 0 0.25em; line-height: 1; border-radius: 0.35em;\">\n",
       "    Congreso\n",
       "    <span style=\"font-size: 0.8em; font-weight: bold; line-height: 1; border-radius: 0.35em; vertical-align: middle; margin-left: 0.5rem\">ORG</span>\n",
       "</mark>\n",
       " del \n",
       "<mark class=\"entity\" style=\"background: #ff9561; padding: 0.45em 0.6em; margin: 0 0.25em; line-height: 1; border-radius: 0.35em;\">\n",
       "    Estado de Hidalgo\n",
       "    <span style=\"font-size: 0.8em; font-weight: bold; line-height: 1; border-radius: 0.35em; vertical-align: middle; margin-left: 0.5rem\">LOC</span>\n",
       "</mark>\n",
       ".</div></span>"
      ],
      "text/plain": [
       "<IPython.core.display.HTML object>"
      ]
     },
     "metadata": {},
     "output_type": "display_data"
    },
    {
     "data": {
      "text/html": [
       "<span class=\"tex2jax_ignore\"><div class=\"entities\" style=\"line-height: 2.5; direction: ltr\">Acción de inconstitucionalidad 63/2022, promovida por la \n",
       "<mark class=\"entity\" style=\"background: #7aecec; padding: 0.45em 0.6em; margin: 0 0.25em; line-height: 1; border-radius: 0.35em;\">\n",
       "    Comisión Nacional de los Derechos Humanos\n",
       "    <span style=\"font-size: 0.8em; font-weight: bold; line-height: 1; border-radius: 0.35em; vertical-align: middle; margin-left: 0.5rem\">ORG</span>\n",
       "</mark>\n",
       ", demandando la invalidez del \n",
       "<mark class=\"entity\" style=\"background: #ff9561; padding: 0.45em 0.6em; margin: 0 0.25em; line-height: 1; border-radius: 0.35em;\">\n",
       "    Artículo 16 Quater\n",
       "    <span style=\"font-size: 0.8em; font-weight: bold; line-height: 1; border-radius: 0.35em; vertical-align: middle; margin-left: 0.5rem\">LOC</span>\n",
       "</mark>\n",
       ", segundo párrafo, de la \n",
       "<mark class=\"entity\" style=\"background: #7aecec; padding: 0.45em 0.6em; margin: 0 0.25em; line-height: 1; border-radius: 0.35em;\">\n",
       "    Ley de Salud\n",
       "    <span style=\"font-size: 0.8em; font-weight: bold; line-height: 1; border-radius: 0.35em; vertical-align: middle; margin-left: 0.5rem\">ORG</span>\n",
       "</mark>\n",
       " para el \n",
       "<mark class=\"entity\" style=\"background: #ff9561; padding: 0.45em 0.6em; margin: 0 0.25em; line-height: 1; border-radius: 0.35em;\">\n",
       "    Estado de Hidalgo\n",
       "    <span style=\"font-size: 0.8em; font-weight: bold; line-height: 1; border-radius: 0.35em; vertical-align: middle; margin-left: 0.5rem\">LOC</span>\n",
       "</mark>\n",
       ", reformado mediante \n",
       "<mark class=\"entity\" style=\"background: #ddd; padding: 0.45em 0.6em; margin: 0 0.25em; line-height: 1; border-radius: 0.35em;\">\n",
       "    Decreto No\n",
       "    <span style=\"font-size: 0.8em; font-weight: bold; line-height: 1; border-radius: 0.35em; vertical-align: middle; margin-left: 0.5rem\">MISC</span>\n",
       "</mark>\n",
       ". 179 publicado en el \n",
       "<mark class=\"entity\" style=\"background: #ff9561; padding: 0.45em 0.6em; margin: 0 0.25em; line-height: 1; border-radius: 0.35em;\">\n",
       "    Periódico Oficial\n",
       "    <span style=\"font-size: 0.8em; font-weight: bold; line-height: 1; border-radius: 0.35em; vertical-align: middle; margin-left: 0.5rem\">LOC</span>\n",
       "</mark>\n",
       " de dicha entidad federativa el 28 de marzo de 2022. \n",
       "<mark class=\"entity\" style=\"background: #ff9561; padding: 0.45em 0.6em; margin: 0 0.25em; line-height: 1; border-radius: 0.35em;\">\n",
       "    Ponente\n",
       "    <span style=\"font-size: 0.8em; font-weight: bold; line-height: 1; border-radius: 0.35em; vertical-align: middle; margin-left: 0.5rem\">LOC</span>\n",
       "</mark>\n",
       ": \n",
       "<mark class=\"entity\" style=\"background: #ddd; padding: 0.45em 0.6em; margin: 0 0.25em; line-height: 1; border-radius: 0.35em;\">\n",
       "    Javier Laynez Potisek\n",
       "    <span style=\"font-size: 0.8em; font-weight: bold; line-height: 1; border-radius: 0.35em; vertical-align: middle; margin-left: 0.5rem\">PER</span>\n",
       "</mark>\n",
       ". \n",
       "<mark class=\"entity\" style=\"background: #ddd; padding: 0.45em 0.6em; margin: 0 0.25em; line-height: 1; border-radius: 0.35em;\">\n",
       "    Secretaria: Paula Ximena Méndez Azuela\n",
       "    <span style=\"font-size: 0.8em; font-weight: bold; line-height: 1; border-radius: 0.35em; vertical-align: middle; margin-left: 0.5rem\">MISC</span>\n",
       "</mark>\n",
       ".</div></span>"
      ],
      "text/plain": [
       "<IPython.core.display.HTML object>"
      ]
     },
     "metadata": {},
     "output_type": "display_data"
    },
    {
     "data": {
      "text/html": [
       "<span class=\"tex2jax_ignore\"><div class=\"entities\" style=\"line-height: 2.5; direction: ltr\">Documento con fines de divulgación. \n",
       "<mark class=\"entity\" style=\"background: #ddd; padding: 0.45em 0.6em; margin: 0 0.25em; line-height: 1; border-radius: 0.35em;\">\n",
       "    La sentencia es la única versión oficial\n",
       "    <span style=\"font-size: 0.8em; font-weight: bold; line-height: 1; border-radius: 0.35em; vertical-align: middle; margin-left: 0.5rem\">MISC</span>\n",
       "</mark>\n",
       ".</div></span>"
      ],
      "text/plain": [
       "<IPython.core.display.HTML object>"
      ]
     },
     "metadata": {},
     "output_type": "display_data"
    }
   ],
   "source": [
    "for txt in ntexto:\n",
    "    procsTxt = nlp(txt)\n",
    "    displacy.render(\n",
    "        procsTxt, \n",
    "        style='ent', \n",
    "        jupyter=True\n",
    "    )"
   ]
  },
  {
   "cell_type": "code",
   "execution_count": null,
   "metadata": {},
   "outputs": [],
   "source": []
  }
 ],
 "metadata": {
  "kernelspec": {
   "display_name": "courses",
   "language": "python",
   "name": "python3"
  },
  "language_info": {
   "codemirror_mode": {
    "name": "ipython",
    "version": 3
   },
   "file_extension": ".py",
   "mimetype": "text/x-python",
   "name": "python",
   "nbconvert_exporter": "python",
   "pygments_lexer": "ipython3",
   "version": "3.10.8"
  },
  "orig_nbformat": 4
 },
 "nbformat": 4,
 "nbformat_minor": 2
}
